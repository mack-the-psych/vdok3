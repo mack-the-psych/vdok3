{
 "cells": [
  {
   "cell_type": "code",
   "execution_count": 1,
   "metadata": {},
   "outputs": [
    {
     "name": "stderr",
     "output_type": "stream",
     "text": [
      "C:\\Users\\macks\\Anaconda3\\lib\\site-packages\\h5py\\__init__.py:34: FutureWarning: Conversion of the second argument of issubdtype from `float` to `np.floating` is deprecated. In future, it will be treated as `np.float64 == np.dtype(float).type`.\n",
      "  from ._conv import register_converters as _register_converters\n"
     ]
    },
    {
     "name": "stdout",
     "output_type": "stream",
     "text": [
      "WARNING:tensorflow:From ../train\\tf_memn_classify.py:26: The name tf.set_random_seed is deprecated. Please use tf.compat.v1.set_random_seed instead.\n",
      "\n"
     ]
    }
   ],
   "source": [
    "import sys\n",
    "sys.path.append(r'../train')\n",
    "\n",
    "import tensorflow as tf\n",
    "\n",
    "from tf_memn_classify import tmv_tf_memn_classify\n",
    "\n",
    "csv_dump = True\n",
    "batch_size = 100\n",
    "# epochs = 20\n",
    "epochs = 1\n",
    "#epochs = 50\n",
    "\n",
    "dependent_var = r'Definition-Score'\n",
    "task_word = r'Definition'\n",
    "number_class = 3\n",
    "key_word = r'TF_MEMN2N-Def-PRE-POST-All_Jupyter'"
   ]
  },
  {
   "cell_type": "code",
   "execution_count": 2,
   "metadata": {
    "collapsed": true
   },
   "outputs": [],
   "source": [
    "memnd = tmv_tf_memn_classify(r'../data/')\n",
    "memnd.load_data(r'Serialized-Def-ELVA.PILOT.PRE-TEST.csv', dependent_var, [0, 1], task_word)"
   ]
  },
  {
   "cell_type": "code",
   "execution_count": 3,
   "metadata": {},
   "outputs": [
    {
     "name": "stdout",
     "output_type": "stream",
     "text": [
      "WARNING:tensorflow:From ../train\\tf_memn_classify.py:373: The name tf.reset_default_graph is deprecated. Please use tf.compat.v1.reset_default_graph instead.\n",
      "\n",
      "WARNING:tensorflow:From ../train\\tf_memn_classify.py:374: The name tf.placeholder is deprecated. Please use tf.compat.v1.placeholder instead.\n",
      "\n",
      "WARNING:tensorflow:\n",
      "The TensorFlow contrib module will not be included in TensorFlow 2.0.\n",
      "For more information, please see:\n",
      "  * https://github.com/tensorflow/community/blob/master/rfcs/20180907-contrib-sunset.md\n",
      "  * https://github.com/tensorflow/addons\n",
      "  * https://github.com/tensorflow/io (for I/O related ops)\n",
      "If you depend on functionality not listed there, please file an issue.\n",
      "\n",
      "WARNING:tensorflow:From ../train\\tf_memn_classify.py:149: BasicLSTMCell.__init__ (from tensorflow.python.ops.rnn_cell_impl) is deprecated and will be removed in a future version.\n",
      "Instructions for updating:\n",
      "This class is equivalent as tf.keras.layers.LSTMCell, and will be replaced by that in Tensorflow 2.0.\n",
      "WARNING:tensorflow:From ../train\\tf_memn_classify.py:156: The name tf.variable_scope is deprecated. Please use tf.compat.v1.variable_scope instead.\n",
      "\n",
      "WARNING:tensorflow:From ../train\\tf_memn_classify.py:156: The name tf.AUTO_REUSE is deprecated. Please use tf.compat.v1.AUTO_REUSE instead.\n",
      "\n",
      "WARNING:tensorflow:From C:\\Users\\macks\\AppData\\Roaming\\Python\\Python36\\site-packages\\tensorflow\\python\\ops\\init_ops.py:1251: calling VarianceScaling.__init__ (from tensorflow.python.ops.init_ops) with dtype is deprecated and will be removed in a future version.\n",
      "Instructions for updating:\n",
      "Call initializer instance with the dtype argument instead of passing it to the constructor\n",
      "WARNING:tensorflow:From C:\\Users\\macks\\AppData\\Roaming\\Python\\Python36\\site-packages\\tensorflow\\python\\ops\\rnn_cell_impl.py:738: calling Zeros.__init__ (from tensorflow.python.ops.init_ops) with dtype is deprecated and will be removed in a future version.\n",
      "Instructions for updating:\n",
      "Call initializer instance with the dtype argument instead of passing it to the constructor\n",
      "WARNING:tensorflow:From ../train\\tf_memn_classify.py:385: The name tf.summary.scalar is deprecated. Please use tf.compat.v1.summary.scalar instead.\n",
      "\n",
      "WARNING:tensorflow:From ../train\\tf_memn_classify.py:182: The name tf.train.AdamOptimizer is deprecated. Please use tf.compat.v1.train.AdamOptimizer instead.\n",
      "\n",
      "WARNING:tensorflow:From C:\\Users\\macks\\AppData\\Roaming\\Python\\Python36\\site-packages\\tensorflow\\python\\ops\\math_grad.py:1250: add_dispatch_support.<locals>.wrapper (from tensorflow.python.ops.array_ops) is deprecated and will be removed in a future version.\n",
      "Instructions for updating:\n",
      "Use tf.where in 2.0, which has the same broadcast rule as np.where\n",
      "WARNING:tensorflow:From ../train\\tf_memn_classify.py:394: The name tf.train.Saver is deprecated. Please use tf.compat.v1.train.Saver instead.\n",
      "\n",
      "WARNING:tensorflow:From C:\\Users\\macks\\AppData\\Roaming\\Python\\Python36\\site-packages\\tensorflow\\python\\training\\saver.py:1276: checkpoint_exists (from tensorflow.python.training.checkpoint_management) is deprecated and will be removed in a future version.\n",
      "Instructions for updating:\n",
      "Use standard file APIs to check for files with this prefix.\n",
      "INFO:tensorflow:Restoring parameters from ../train/test-log-MEMN2N/my_model.ckpt-19\n"
     ]
    }
   ],
   "source": [
    "memnd.restore_model('../train/test-log-MEMN2N/my_model.ckpt-19', number_class)"
   ]
  },
  {
   "cell_type": "markdown",
   "metadata": {},
   "source": [
    "https://josehoras.github.io/saving-a-model-in-tensorflow/"
   ]
  },
  {
   "cell_type": "code",
   "execution_count": 4,
   "metadata": {},
   "outputs": [
    {
     "data": {
      "text/plain": [
       "[<tf.Variable 'A:0' shape=(961, 64) dtype=float32_ref>,\n",
       " <tf.Variable 'B:0' shape=(961, 64) dtype=float32_ref>,\n",
       " <tf.Variable 'C:0' shape=(961, 29) dtype=float32_ref>,\n",
       " <tf.Variable 'LSTM/celula/kernel:0' shape=(124, 128) dtype=float32_ref>,\n",
       " <tf.Variable 'LSTM/celula/bias:0' shape=(128,) dtype=float32_ref>,\n",
       " <tf.Variable 'W:0' shape=(32, 3) dtype=float32_ref>,\n",
       " <tf.Variable 'b_1:0' shape=(3,) dtype=float32_ref>,\n",
       " <tf.Variable 'beta1_power:0' shape=() dtype=float32_ref>,\n",
       " <tf.Variable 'beta2_power:0' shape=() dtype=float32_ref>,\n",
       " <tf.Variable 'A/Adam:0' shape=(961, 64) dtype=float32_ref>,\n",
       " <tf.Variable 'A/Adam_1:0' shape=(961, 64) dtype=float32_ref>,\n",
       " <tf.Variable 'B/Adam:0' shape=(961, 64) dtype=float32_ref>,\n",
       " <tf.Variable 'B/Adam_1:0' shape=(961, 64) dtype=float32_ref>,\n",
       " <tf.Variable 'C/Adam:0' shape=(961, 29) dtype=float32_ref>,\n",
       " <tf.Variable 'C/Adam_1:0' shape=(961, 29) dtype=float32_ref>,\n",
       " <tf.Variable 'LSTM/celula/kernel/Adam:0' shape=(124, 128) dtype=float32_ref>,\n",
       " <tf.Variable 'LSTM/celula/kernel/Adam_1:0' shape=(124, 128) dtype=float32_ref>,\n",
       " <tf.Variable 'LSTM/celula/bias/Adam:0' shape=(128,) dtype=float32_ref>,\n",
       " <tf.Variable 'LSTM/celula/bias/Adam_1:0' shape=(128,) dtype=float32_ref>,\n",
       " <tf.Variable 'W/Adam:0' shape=(32, 3) dtype=float32_ref>,\n",
       " <tf.Variable 'W/Adam_1:0' shape=(32, 3) dtype=float32_ref>,\n",
       " <tf.Variable 'b_1/Adam:0' shape=(3,) dtype=float32_ref>,\n",
       " <tf.Variable 'b_1/Adam_1:0' shape=(3,) dtype=float32_ref>]"
      ]
     },
     "execution_count": 4,
     "metadata": {},
     "output_type": "execute_result"
    }
   ],
   "source": [
    "tf.global_variables()"
   ]
  },
  {
   "cell_type": "code",
   "execution_count": 5,
   "metadata": {},
   "outputs": [
    {
     "name": "stdout",
     "output_type": "stream",
     "text": [
      "Recall                      0.9691\n",
      "Precision                   0.9689\n",
      "F1                          0.9689\n",
      "Kappa                       0.8724\n",
      "Quadratic Weighted Kappa    0.9052\n",
      "dtype: float64\n",
      "Confusion Matrix:\n",
      "      0    1    2\n",
      "0  3568   27    7\n",
      "1    25  315   22\n",
      "2    14   34  157\n"
     ]
    }
   ],
   "source": [
    "memnd.perform_prediction(memnd.df_ac_modeling_values, number_class)\n",
    "memnd.evaluate_prediction(key_word)"
   ]
  },
  {
   "cell_type": "code",
   "execution_count": 6,
   "metadata": {
    "collapsed": true
   },
   "outputs": [],
   "source": [
    "import nltk.data\n",
    "\n",
    "def get_tokens(answer_str_list):\n",
    "    list_cntnt = list(answer_str_list)\n",
    "    sent_detector = nltk.data.load('tokenizers/punkt/english.pickle')\n",
    "\n",
    "    tokens_all = []\n",
    "    for x in list_cntnt:\n",
    "        tokens = []\n",
    "        sentences = sent_detector.tokenize(x.strip())\n",
    "        for y in sentences:\n",
    "            tokens += nltk.word_tokenize(y)\n",
    "        tokens_all = tokens_all + [tokens]\n",
    "        \n",
    "    return tokens_all"
   ]
  },
  {
   "cell_type": "code",
   "execution_count": 7,
   "metadata": {},
   "outputs": [
    {
     "name": "stdout",
     "output_type": "stream",
     "text": [
      "[['To', 'invent', 'stuff'], ['Someone', 'that', 'saves', 'a', 'person'], ['Something', 'that', 'is', 'not', 'possible'], ['When', 'something', 'explodes']]\n",
      "[[  0   0   0   0   0   0   0   0   0   0   0   0   0   0   0   0   0   0\n",
      "    0   0   0   0   0   0   0   0 140 504 832]\n",
      " [  0   0   0   0   0   0   0   0   0   0   0   0   0   0   0   0   0   0\n",
      "    0   0   0   0   0   0 116 861 749 160 665]\n",
      " [  0   0   0   0   0   0   0   0   0   0   0   0   0   0   0   0   0   0\n",
      "    0   0   0   0   0   0 118 861 510 626 678]\n",
      " [  0   0   0   0   0   0   0   0   0   0   0   0   0   0   0   0   0   0\n",
      "    0   0   0   0   0   0   0   0 149 805 380]]\n",
      "[['A', 'person', 'who', 'creates', 'something', 'new', 'that', 'has', 'never', 'been', 'made', 'before'], ['Someone', 'you', 'admire', 'because', 'they', 'have', 'done', 'an', 'action', 'that', 'is', 'brave', 'or', 'new', 'or', 'good'], ['Describes', 'something', 'that', 'is', 'very', 'difficult', 'or', 'can', 'not', 'happen'], ['It', 'means', 'to', 'explode', 'or', 'to', 'burst', 'out', 'with', 'force']]\n",
      "[[  0   0   0   0   0   0   0   0   0   0   0   0   0   0   0   0  15 665\n",
      "  939 314 805 620 861 448 619 217 565 218]\n",
      " [  0   0   0   0   0   0   0   0   0   0   0   0 116 958 172 216 867 449\n",
      "  344 185 165 861 510 243 643 620 643 430]\n",
      " [  0   0   0   0   0   0   0   0   0   0   0   0   0   0   0   0   0   0\n",
      "   33 805 861 510 914 332 643 265 626 445]\n",
      " [  0   0   0   0   0   0   0   0   0   0   0   0   0   0   0   0   0   0\n",
      "   64 581 882 379 643 882 253 646 944 409]]\n"
     ]
    },
    {
     "data": {
      "text/html": [
       "<div>\n",
       "<style>\n",
       "    .dataframe thead tr:only-child th {\n",
       "        text-align: right;\n",
       "    }\n",
       "\n",
       "    .dataframe thead th {\n",
       "        text-align: left;\n",
       "    }\n",
       "\n",
       "    .dataframe tbody tr th {\n",
       "        vertical-align: top;\n",
       "    }\n",
       "</style>\n",
       "<table border=\"1\" class=\"dataframe\">\n",
       "  <thead>\n",
       "    <tr style=\"text-align: right;\">\n",
       "      <th></th>\n",
       "      <th>Score_Class</th>\n",
       "    </tr>\n",
       "    <tr>\n",
       "      <th>AC_Doc_ID</th>\n",
       "      <th></th>\n",
       "    </tr>\n",
       "  </thead>\n",
       "  <tbody>\n",
       "    <tr>\n",
       "      <th>0</th>\n",
       "      <td>1</td>\n",
       "    </tr>\n",
       "    <tr>\n",
       "      <th>1</th>\n",
       "      <td>1</td>\n",
       "    </tr>\n",
       "    <tr>\n",
       "      <th>2</th>\n",
       "      <td>2</td>\n",
       "    </tr>\n",
       "    <tr>\n",
       "      <th>3</th>\n",
       "      <td>1</td>\n",
       "    </tr>\n",
       "  </tbody>\n",
       "</table>\n",
       "</div>"
      ],
      "text/plain": [
       "           Score_Class\n",
       "AC_Doc_ID             \n",
       "0                    1\n",
       "1                    1\n",
       "2                    2\n",
       "3                    1"
      ]
     },
     "execution_count": 7,
     "metadata": {},
     "output_type": "execute_result"
    }
   ],
   "source": [
    "import pandas as pd\n",
    "import numpy as np\n",
    "answer_clm = 'Definition-Answer'\n",
    "answer_ex_clm = task_word\n",
    "from sklearn.preprocessing import OneHotEncoder\n",
    "\n",
    "ohe = OneHotEncoder(categorical_features=[0])\n",
    "\n",
    "df_response_answer_ex = pd.read_csv('../data/Head4-Serialized-Def-ELVA.PILOT.POST-TEST.csv', encoding= 'latin1')\n",
    "df_response_answer_ex = df_response_answer_ex.set_index(r'Student_Question_Index')\n",
    "\n",
    "ans_tokens = get_tokens(df_response_answer_ex[answer_clm].values)\n",
    "ans_ex_tokens = get_tokens(df_response_answer_ex[answer_ex_clm].values)\n",
    "\n",
    "df_ac_modeling_values = pd.DataFrame({'Anser_Tokens': ans_tokens,\n",
    "                                        'Anser_example_Tokens': ans_ex_tokens})\n",
    "\n",
    "ans_tokens_vector = memnd.vectorize_tokens(list(df_ac_modeling_values['Anser_Tokens']),\n",
    "                                          memnd.ans_maxlen)\n",
    "ans_ex_tokens_vector = memnd.vectorize_tokens(list(df_ac_modeling_values['Anser_example_Tokens']),\n",
    "                                          memnd.ans_ex_maxlen)\n",
    "\n",
    "print(ans_tokens)\n",
    "print(ans_tokens_vector)\n",
    "print(ans_ex_tokens)\n",
    "print(ans_ex_tokens_vector)\n",
    "\n",
    "df_ac_predict_target = df_response_answer_ex.loc[:,[dependent_var]]\n",
    "y_test = df_ac_predict_target.transpose().values[0]\n",
    "y_matrix_test = y_test.reshape(len(y_test),1)\n",
    "y_ohe_test = ohe.fit_transform(y_matrix_test).toarray()\n",
    "\n",
    "answer_len = len(df_response_answer_ex)\n",
    "prediction = memnd.sess.run(memnd.y, feed_dict={\n",
    "    memnd.x: ans_ex_tokens_vector,\n",
    "    memnd.q: ans_tokens_vector,\n",
    "    memnd.a: y_ohe_test,\n",
    "    memnd.n_batch: answer_len\n",
    "})\n",
    "\n",
    "predict_res = np.zeros(answer_len, dtype=np.int)\n",
    "for i in range(len(prediction)):\n",
    "    predict_res[i] =  np.argmax(prediction[i])\n",
    "\n",
    "df_ac_classified = pd.DataFrame(np.array(predict_res, dtype=np.int64), None,[r'Score_Class'])\n",
    "df_ac_classified.index.name = r'AC_Doc_ID'\n",
    "df_ac_classified"
   ]
  },
  {
   "cell_type": "code",
   "execution_count": null,
   "metadata": {
    "collapsed": true
   },
   "outputs": [],
   "source": []
  }
 ],
 "metadata": {
  "kernelspec": {
   "display_name": "Python 3",
   "language": "python",
   "name": "python3"
  },
  "language_info": {
   "codemirror_mode": {
    "name": "ipython",
    "version": 3
   },
   "file_extension": ".py",
   "mimetype": "text/x-python",
   "name": "python",
   "nbconvert_exporter": "python",
   "pygments_lexer": "ipython3",
   "version": "3.6.2"
  }
 },
 "nbformat": 4,
 "nbformat_minor": 2
}
